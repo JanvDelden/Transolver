{
 "cells": [
  {
   "cell_type": "code",
   "execution_count": null,
   "metadata": {},
   "outputs": [],
   "source": [
    "import numpy as np\n",
    "import json\n",
    "import matplotlib.pyplot as plt\n",
    "import seaborn as sns\n",
    "import os.path as osp\n",
    "\n",
    "NU = 1.56e-5\n",
    "\n",
    "sets = ['full_train', 'scarce_train', 'reynolds_train', 'aoa_train', 'full_test', 'reynolds_test', 'aoa_test']\n",
    "colors = ['cornflowerblue']*4 + ['burlywood']*3\n",
    "data_dir = 'MY_ROOT_DIRECTORY'\n",
    "\n",
    "for c, s in zip(colors, sets):\n",
    "    with open(osp.join(data_dir, 'manifest.json'), 'r') as f:\n",
    "        manifest = json.load(f)[s]\n",
    "\n",
    "    us = []\n",
    "    angles = []\n",
    "    digits4 = []\n",
    "    digits5 = []\n",
    "    for sim in manifest:\n",
    "        params = sim.split('_')\n",
    "        us.append(float(params[2])/NU)\n",
    "        angles.append(float(params[3]))\n",
    "\n",
    "        if len(params) == 7:\n",
    "            digits4.append(list(map(float, params[-3:])))\n",
    "        else:\n",
    "            digits5.append(list(map(float, params[-4:])))\n",
    "\n",
    "    digits4 = np.array(digits4)\n",
    "    digits5 = np.array(digits5)\n",
    "\n",
    "    sns.set()\n",
    "\n",
    "    fig, ax = plt.subplots(3, 3, figsize = (12, 12))\n",
    "    ax[2, 1].hist(us, bins = 20, color = c)\n",
    "    ax[2, 1].set_title('Reynolds number')\n",
    "\n",
    "    ax[2, 2].hist(angles, bins = 20, color = c)\n",
    "    ax[2, 2].set_xlabel('Degrees')\n",
    "    ax[2, 2].set_title('Angle of attack')\n",
    "\n",
    "    ax[0, 0].hist(digits4[:, 0], bins = 20, color = c)\n",
    "    ax[0, 0].set_title(r'$1^{st}$ digit')\n",
    "\n",
    "    ax[0, 1].hist(digits4[:, 1], bins = 20, color = c)\n",
    "    ax[0, 1].set_title(r'$2^{nd}$ digit')\n",
    "\n",
    "    ax[0, 2].hist(digits4[:, 2], bins = 20, color = c)\n",
    "    ax[0, 2].set_title(r'$3^{rd}$ and $4^{th}$ digits')\n",
    "\n",
    "    ax[1, 0].hist(digits5[:, 0], bins = 20, color = c)\n",
    "    ax[1, 0].set_title(r'$1^{st}$ digit')\n",
    "\n",
    "    ax[1, 1].hist(digits5[:, 1], bins = 20, color = c)\n",
    "    ax[1, 1].set_title(r'$2^{nd}$ digit')\n",
    "\n",
    "    ax[2, 0].hist(digits5[:, 2], bins = 2, color = c)\n",
    "    ax[2, 0].set_title(r'$3^{rd}$ digit')\n",
    "\n",
    "    ax[1, 2].hist(digits5[:, 3], bins = 20, color = c)\n",
    "    ax[1, 2].set_title(r'$4^{th}$ and $5^{th}$ digits');\n",
    "    fig.savefig(s, bbox_inches = 'tight', dpi = 150)"
   ]
  }
 ],
 "metadata": {
  "kernelspec": {
   "display_name": "Python 3.9.12 ('isir')",
   "language": "python",
   "name": "python3"
  },
  "language_info": {
   "codemirror_mode": {
    "name": "ipython",
    "version": 3
   },
   "file_extension": ".py",
   "mimetype": "text/x-python",
   "name": "python",
   "nbconvert_exporter": "python",
   "pygments_lexer": "ipython3",
   "version": "3.9.12"
  },
  "orig_nbformat": 4,
  "vscode": {
   "interpreter": {
    "hash": "d00e44851a3a4d5201bc229183e4c0de3fea7314717b82800f8d82d2168b4a23"
   }
  }
 },
 "nbformat": 4,
 "nbformat_minor": 2
}
